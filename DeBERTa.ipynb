{
  "nbformat": 4,
  "nbformat_minor": 0,
  "metadata": {
    "colab": {
      "provenance": [],
      "gpuType": "T4",
      "include_colab_link": true
    },
    "kernelspec": {
      "name": "python3",
      "display_name": "Python 3"
    },
    "language_info": {
      "name": "python"
    },
    "accelerator": "GPU"
  },
  "cells": [
    {
      "cell_type": "markdown",
      "metadata": {
        "id": "view-in-github",
        "colab_type": "text"
      },
      "source": [
        "<a href=\"https://colab.research.google.com/github/541DeepLearning-Group8/models/blob/main/DeBERTa.ipynb\" target=\"_parent\"><img src=\"https://colab.research.google.com/assets/colab-badge.svg\" alt=\"Open In Colab\"/></a>"
      ]
    },
    {
      "cell_type": "code",
      "execution_count": null,
      "metadata": {
        "id": "8JYpInNRrQdL"
      },
      "outputs": [],
      "source": [
        "!pip install transformers datasets -q\n",
        "\n",
        "import pandas as pd\n",
        "import torch\n",
        "from torch.utils.data import Dataset, DataLoader\n",
        "from transformers import BertTokenizer, BertForSequenceClassification, get_scheduler\n",
        "from transformers import AutoTokenizer, AutoModelForSequenceClassification\n",
        "from torch.optim import AdamW\n",
        "from sklearn.metrics import classification_report\n",
        "from tqdm import tqdm\n",
        "\n",
        "# parameters\n",
        "DEBERTA_MODEL = 'microsoft/deberta-v3-base'\n",
        "BATCH_SIZE = 16\n",
        "EPOCHS = 3\n",
        "MAX_LEN = 128\n",
        "LEARNING_RATE = 2e-5\n",
        "NUM_CLASSES = 5\n",
        "\n",
        "device = torch.device(\"cuda\" if torch.cuda.is_available() else \"cpu\")\n",
        "\n",
        "\n",
        "from google.colab import drive\n",
        "drive.mount('/content/drive')\n",
        "\n",
        "train_df = pd.read_csv('/content/drive/MyDrive/541project/train.csv')\n",
        "val_df = pd.read_csv('/content/drive/MyDrive/541project/val.csv')\n",
        "test_df = pd.read_csv('/content/drive/MyDrive/541project/test.csv')"
      ]
    },
    {
      "cell_type": "code",
      "source": [
        "for df in [train_df, val_df, test_df]:\n",
        "    df['label'] = df['Rating'] - 1\n",
        "\n",
        "# Dataset\n",
        "class TextDataset(Dataset):\n",
        "    def __init__(self, texts, labels, tokenizer, max_len):\n",
        "        self.encodings = tokenizer(texts, truncation=True, padding='max_length', max_length=max_len)\n",
        "        self.labels = labels\n",
        "\n",
        "    def __getitem__(self, idx):\n",
        "        item = {key: torch.tensor(val[idx]) for key, val in self.encodings.items()}\n",
        "        item['labels'] = torch.tensor(self.labels[idx], dtype=torch.long)\n",
        "        return item\n",
        "\n",
        "    def __len__(self):\n",
        "        return len(self.labels)"
      ],
      "metadata": {
        "id": "K7NIPbe3rc9F"
      },
      "execution_count": null,
      "outputs": []
    },
    {
      "cell_type": "code",
      "source": [
        "# tokenizer\n",
        "tokenizer = AutoTokenizer.from_pretrained(DEBERTA_MODEL)\n",
        "\n",
        "# datasets\n",
        "train_dataset = TextDataset(train_df['Clean Comments'].tolist(), train_df['label'].tolist(), tokenizer, MAX_LEN)\n",
        "val_dataset = TextDataset(val_df['Clean Comments'].tolist(), val_df['label'].tolist(), tokenizer, MAX_LEN)\n",
        "test_dataset = TextDataset(test_df['Clean Comments'].tolist(), test_df['label'].tolist(), tokenizer, MAX_LEN)\n",
        "\n",
        "train_loader = DataLoader(train_dataset, batch_size=BATCH_SIZE, shuffle=True)\n",
        "val_loader = DataLoader(val_dataset, batch_size=BATCH_SIZE)\n",
        "test_loader = DataLoader(test_dataset, batch_size=BATCH_SIZE)"
      ],
      "metadata": {
        "id": "4Z5_Rqdqrc_o"
      },
      "execution_count": null,
      "outputs": []
    },
    {
      "cell_type": "code",
      "source": [
        "# DeBERTa\n",
        "model = AutoModelForSequenceClassification.from_pretrained(DEBERTA_MODEL, num_labels=NUM_CLASSES)\n",
        "model.to(device)\n",
        "\n",
        "# optimizer & scheduler\n",
        "optimizer = AdamW(model.parameters(), lr=LEARNING_RATE)\n",
        "num_training_steps = len(train_loader) * EPOCHS\n",
        "lr_scheduler = get_scheduler(\"linear\", optimizer=optimizer, num_warmup_steps=0, num_training_steps=num_training_steps)"
      ],
      "metadata": {
        "id": "iGS58sa4rdB-"
      },
      "execution_count": null,
      "outputs": []
    },
    {
      "cell_type": "code",
      "source": [
        "def train(model, dataloader):\n",
        "    model.train()\n",
        "    total_loss = 0\n",
        "    for batch in tqdm(dataloader, desc=\"Training\"):\n",
        "        batch = {k: v.to(device) for k, v in batch.items()}\n",
        "        outputs = model(**batch)\n",
        "        loss = outputs.loss\n",
        "        total_loss += loss.item()\n",
        "        loss.backward()\n",
        "        optimizer.step()\n",
        "        lr_scheduler.step()\n",
        "        optimizer.zero_grad()\n",
        "    print(f\"Train Loss: {total_loss/len(dataloader):.4f}\")"
      ],
      "metadata": {
        "id": "ZzECBJHdrdET"
      },
      "execution_count": null,
      "outputs": []
    },
    {
      "cell_type": "code",
      "source": [
        "def evaluate(model, dataloader, desc=\"Validation\"):\n",
        "    model.eval()\n",
        "    preds, labels = [], []\n",
        "    with torch.no_grad():\n",
        "        for batch in tqdm(dataloader, desc=desc):\n",
        "            batch = {k: v.to(device) for k, v in batch.items()}\n",
        "            outputs = model(**batch)\n",
        "            logits = outputs.logits\n",
        "            preds.extend(torch.argmax(logits, dim=-1).cpu().numpy())\n",
        "            labels.extend(batch['labels'].cpu().numpy())\n",
        "    report = classification_report(labels, preds, digits=4)\n",
        "    print(report)"
      ],
      "metadata": {
        "id": "k4lenCGyrdGj"
      },
      "execution_count": null,
      "outputs": []
    },
    {
      "cell_type": "code",
      "source": [
        "for epoch in range(EPOCHS):\n",
        "    print(f\"\\nEpoch {epoch+1}/{EPOCHS}\")\n",
        "    train(model, train_loader)\n",
        "    print(\"Validation results:\")\n",
        "    evaluate(model, val_loader)"
      ],
      "metadata": {
        "id": "nOze8kPPrdIq"
      },
      "execution_count": null,
      "outputs": []
    },
    {
      "cell_type": "code",
      "source": [
        "print(\"\\n Final Evaluation on Test Set:\")\n",
        "evaluate(model, test_loader, desc=\"Test\")"
      ],
      "metadata": {
        "id": "Y9RVhCE0rpTi"
      },
      "execution_count": null,
      "outputs": []
    },
    {
      "cell_type": "code",
      "source": [
        "from transformers import AutoModelForSequenceClassification, AutoTokenizer\n",
        "\n",
        "save_path = \"/content/drive/MyDrive/541project/deberta_model_1\"\n",
        "\n",
        "model.save_pretrained(save_path)\n",
        "\n",
        "tokenizer.save_pretrained(save_path)\n",
        "\n",
        "print(f\"Save successfully:\" {save_path}\")\n"
      ],
      "metadata": {
        "id": "bliLdgroE1IP"
      },
      "execution_count": null,
      "outputs": []
    },
    {
      "cell_type": "code",
      "source": [
        "# Hugging Face\n",
        "model.save_pretrained(\"/content/drive/MyDrive/541project/deberta_model_12\")\n",
        "tokenizer.save_pretrained(\"/content/drive/MyDrive/541project/deberta_model_13\")\n",
        "\n",
        "#PyTorch .pth\n",
        "torch.save(model.state_dict(), \"/content/drive/MyDrive/541project/deberta_model_14.pth\")\n"
      ],
      "metadata": {
        "id": "iXSwxojsE6al"
      },
      "execution_count": null,
      "outputs": []
    },
    {
      "cell_type": "code",
      "source": [
        "import os\n",
        "\n",
        "save_path = \"/content/drive/MyDrive/541project/deberta_model_14.pth\"\n",
        "\n",
        "torch.save(model.state_dict(), save_path)\n",
        "\n",
        "if os.path.exists(save_path):\n",
        "    print(\"Save successfully\", save_path)\n",
        "else:\n",
        "    print(\"Save failed!\")\n"
      ],
      "metadata": {
        "id": "uHF0CMYhPQS_"
      },
      "execution_count": null,
      "outputs": []
    }
  ]
}